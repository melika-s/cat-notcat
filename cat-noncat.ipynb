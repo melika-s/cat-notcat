{
 "cells": [
  {
   "cell_type": "code",
   "execution_count": 90,
   "metadata": {},
   "outputs": [],
   "source": [
    "import numpy as np\n",
    "import matplotlib.pyplot as plt\n",
    "import h5py"
   ]
  },
  {
   "cell_type": "code",
   "execution_count": 91,
   "metadata": {},
   "outputs": [],
   "source": [
    "def load_dataset():\n",
    "    train_dataset = h5py.File('E:/Uni/Arshad/files/Deeplearning/datasets/train_catvnoncat.h5', \"r\")\n",
    "    train_set_x_orig = np.array(train_dataset[\"train_set_x\"][:])\n",
    "    train_set_y_orig = np.array(train_dataset[\"train_set_y\"][:])\n",
    "\n",
    "    test_dataset = h5py.File('E:/Uni/Arshad/files/Deeplearning/datasets/test_catvnoncat.h5', \"r\")\n",
    "    test_set_x_orig = np.array(test_dataset[\"test_set_x\"][:])\n",
    "    test_set_y_orig = np.array(test_dataset[\"test_set_y\"][:])\n",
    "\n",
    "    classes = np.array(test_dataset[\"list_classes\"][:])\n",
    "    \n",
    "    train_set_y_orig = train_set_y_orig.reshape((1, train_set_y_orig.shape[0]))\n",
    "    test_set_y_orig = test_set_y_orig.reshape((1, test_set_y_orig.shape[0]))\n",
    "    \n",
    "    return train_set_x_orig, train_set_y_orig, test_set_x_orig, test_set_y_orig, classes\n",
    "\n",
    "train_set_x_orig, train_set_y, test_set_x_orig, test_set_y, classes = load_dataset()"
   ]
  },
  {
   "cell_type": "code",
   "execution_count": 92,
   "metadata": {},
   "outputs": [],
   "source": [
    "train_num = train_set_x_orig.shape[0]\n",
    "test_num = test_set_x_orig.shape[0]\n",
    "num_px = train_set_x_orig.shape[1]"
   ]
  },
  {
   "cell_type": "code",
   "execution_count": 93,
   "metadata": {},
   "outputs": [],
   "source": [
    "train_set_x_flatten = train_set_x_orig.reshape(train_num, -1).T\n",
    "test_set_x_flatten = test_set_x_orig.reshape(test_num, -1).T"
   ]
  },
  {
   "cell_type": "code",
   "execution_count": 94,
   "metadata": {},
   "outputs": [],
   "source": [
    "train_set_x = train_set_x_flatten/255\n",
    "test_set_x = test_set_x_flatten/255"
   ]
  },
  {
   "cell_type": "code",
   "execution_count": 95,
   "metadata": {},
   "outputs": [],
   "source": [
    "def sigmoid(z):\n",
    "    return 1 / (1 + np.exp(-z))"
   ]
  },
  {
   "cell_type": "code",
   "execution_count": 249,
   "metadata": {},
   "outputs": [],
   "source": [
    "def initialize(dim):\n",
    "    W = np.zeros((dim, 1), dtype=float)\n",
    "    b = 0\n",
    "    \n",
    "    return W, b"
   ]
  },
  {
   "cell_type": "code",
   "execution_count": 250,
   "metadata": {},
   "outputs": [],
   "source": [
    "def lostFunc(A, Y):\n",
    "    return np.sum((Y * np.log(A)) + (1 - Y) * np.log(1 - A))"
   ]
  },
  {
   "cell_type": "code",
   "execution_count": 332,
   "metadata": {},
   "outputs": [],
   "source": [
    "def doForwardPropagation(W, b, X, Y):\n",
    "    egNum = X.shape[1]\n",
    "    reg = 1/(2 * egNum) * np.exp(3) * np.sum(np.power(W, 2))\n",
    "    \n",
    "    A = sigmoid(np.dot(W.T, X) + b)\n",
    "    cost = -1/egNum * lostFunc(A, Y) + reg\n",
    "    \n",
    "    return A, cost"
   ]
  },
  {
   "cell_type": "code",
   "execution_count": 333,
   "metadata": {},
   "outputs": [],
   "source": [
    "def doBackwardPropagation(W, X, Y, A):\n",
    "    egNum = X.shape[1]\n",
    "    reg = 1/egNum * np.exp(3) * np.sum(W)\n",
    "    \n",
    "    dw = 1/egNum * np.dot(X, (A - Y).T) + reg\n",
    "    db = 1/egNum * np.sum(A - Y)\n",
    "    \n",
    "    return dw, db"
   ]
  },
  {
   "cell_type": "code",
   "execution_count": 334,
   "metadata": {},
   "outputs": [],
   "source": [
    "def propagate(W, b, X, Y):\n",
    "    A, cost = doForwardPropagation(W, b, X, Y)\n",
    "    dw, db = doBackwardPropagation(W, X, Y, A)\n",
    "\n",
    "    assert(dw.shape == W.shape)\n",
    "    assert(db.dtype == float)\n",
    "    \n",
    "    cost = np.squeeze(cost)\n",
    "    \n",
    "    assert(cost.shape == ())\n",
    "    \n",
    "    grads = {\"dw\": dw,\n",
    "             \"db\": db}\n",
    "    \n",
    "    return grads, cost"
   ]
  },
  {
   "cell_type": "code",
   "execution_count": 335,
   "metadata": {},
   "outputs": [],
   "source": [
    "def optimize(W, b, X, Y, num_iterations, learning_rate, print_cost = False):\n",
    "    costs = []\n",
    "    \n",
    "    for i in range(num_iterations):\n",
    "        grads, cost = propagate(W, b, X, Y)\n",
    "        A = sigmoid(np.dot(W.T, X) + b)\n",
    "        \n",
    "        W = W - learning_rate * grads[\"dw\"]\n",
    "        b = b - learning_rate * grads[\"db\"]\n",
    "        \n",
    "        if i % 100 == 0:\n",
    "            costs.append(cost)\n",
    "        \n",
    "        if print_cost and i % 100 == 0:\n",
    "            print (\"Cost after iteration %i: %f\" %(i, cost))\n",
    "    \n",
    "    params = {\"w\": W,\n",
    "              \"b\": b}\n",
    "    \n",
    "    return params, grads, costs"
   ]
  },
  {
   "cell_type": "code",
   "execution_count": 336,
   "metadata": {},
   "outputs": [],
   "source": [
    "def predict(W, b, X):\n",
    "    egNum = X.shape[1]\n",
    "    Y_prediction = np.zeros((1,egNum))\n",
    "    W = W.reshape(X.shape[0], 1)\n",
    "    \n",
    "    A = sigmoid(np.dot(W.T, X) + b)\n",
    "    \n",
    "    for i in range(A.shape[1]):\n",
    "        if A[0][i] < 0.5: \n",
    "            pass\n",
    "        else:\n",
    "            Y_prediction[0][i] = 1\n",
    "    \n",
    "    assert(Y_prediction.shape == (1, egNum))\n",
    "    \n",
    "    return Y_prediction"
   ]
  },
  {
   "cell_type": "code",
   "execution_count": 337,
   "metadata": {},
   "outputs": [],
   "source": [
    "def calculateAccuracy(element, prediction, reality):\n",
    "    return str(element) + \" accuracy : {} %\".format(100 - np.mean(np.abs(prediction - reality)) * 100)"
   ]
  },
  {
   "cell_type": "code",
   "execution_count": 338,
   "metadata": {},
   "outputs": [],
   "source": [
    "def model(X_train, Y_train, X_test, Y_test, num_iterations, learning_rate, print_cost = False):\n",
    "    W, b = initialize(X_train.shape[0])\n",
    "\n",
    "    parameters, grads, costs = optimize(W, b, X_train, Y_train, num_iterations, learning_rate, print_cost)\n",
    "    \n",
    "    W = parameters[\"w\"]\n",
    "    b = parameters[\"b\"]\n",
    "    \n",
    "    Y_prediction_test = predict(W, b, X_test)\n",
    "    Y_prediction_train = predict(W, b, X_train)\n",
    "\n",
    "    print(calculateAccuracy(\"train\", Y_prediction_train, Y_train))\n",
    "    print(calculateAccuracy(\"test\", Y_prediction_test, Y_test))\n",
    "\n",
    "    \n",
    "    result = {\"costs\": costs,\n",
    "         \"Y_prediction_test\": Y_prediction_test, \n",
    "         \"Y_prediction_train\" : Y_prediction_train, \n",
    "         \"w\" : W, \n",
    "         \"b\" : b,\n",
    "         \"learning_rate\" : learning_rate,\n",
    "         \"num_iterations\": num_iterations}\n",
    "    \n",
    "    return result"
   ]
  },
  {
   "cell_type": "code",
   "execution_count": 346,
   "metadata": {},
   "outputs": [
    {
     "name": "stdout",
     "output_type": "stream",
     "text": [
      "Cost after iteration 0: 0.693147\n",
      "Cost after iteration 100: 0.637013\n",
      "Cost after iteration 200: 0.614949\n",
      "Cost after iteration 300: 0.598564\n",
      "Cost after iteration 400: 0.585123\n",
      "Cost after iteration 500: 0.573480\n",
      "Cost after iteration 600: 0.563085\n",
      "Cost after iteration 700: 0.553637\n",
      "Cost after iteration 800: 0.544949\n",
      "Cost after iteration 900: 0.536894\n",
      "Cost after iteration 1000: 0.529376\n",
      "Cost after iteration 1100: 0.522324\n",
      "Cost after iteration 1200: 0.515679\n",
      "Cost after iteration 1300: 0.509395\n",
      "Cost after iteration 1400: 0.503433\n",
      "Cost after iteration 1500: 0.497762\n",
      "Cost after iteration 1600: 0.492353\n",
      "Cost after iteration 1700: 0.487183\n",
      "Cost after iteration 1800: 0.482233\n",
      "Cost after iteration 1900: 0.477485\n",
      "train accuracy : 80.38277511961722 %\n",
      "test accuracy : 58.0 %\n"
     ]
    }
   ],
   "source": [
    "result = model(train_set_x, train_set_y, test_set_x, test_set_y, num_iterations = 2000, learning_rate = 0.0003, print_cost = True)"
   ]
  },
  {
   "cell_type": "code",
   "execution_count": null,
   "metadata": {},
   "outputs": [],
   "source": [
    "def plotCostFunc(cost):\n",
    "    costs = np.squeeze(cost['costs'])\n",
    "    plt.plot(costs)\n",
    "    plt.ylabel('cost')\n",
    "    plt.xlabel('iterations (per hundreds)')\n",
    "    plt.title(\"Learning rate =\" + str(cost[\"learning_rate\"]))\n",
    "    return plt.show()"
   ]
  },
  {
   "cell_type": "code",
   "execution_count": 341,
   "metadata": {
    "scrolled": true
   },
   "outputs": [
    {
     "data": {
      "image/png": "[encoded data removed]",
      "text/plain": [
       "<Figure size 432x288 with 1 Axes>"
      ]
     },
     "metadata": {
      "needs_background": "light"
     },
     "output_type": "display_data"
    }
   ],
   "source": [
    "plotCostFunc(result)"
   ]
  }
 ],
 "metadata": {
  "kernelspec": {
   "display_name": "Python 3",
   "language": "python",
   "name": "python3"
  },
  "language_info": {
   "codemirror_mode": {
    "name": "ipython",
    "version": 3
   },
   "file_extension": ".py",
   "mimetype": "text/x-python",
   "name": "python",
   "nbconvert_exporter": "python",
   "pygments_lexer": "ipython3",
   "version": "3.7.4"
  }
 },
 "nbformat": 4,
 "nbformat_minor": 2
}
